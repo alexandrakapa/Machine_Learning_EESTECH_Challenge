{
 "cells": [
  {
   "cell_type": "markdown",
   "id": "5839cadb",
   "metadata": {
    "papermill": {
     "duration": 0.023365,
     "end_time": "2022-04-10T00:36:00.371390",
     "exception": false,
     "start_time": "2022-04-10T00:36:00.348025",
     "status": "completed"
    },
    "tags": []
   },
   "source": [
    "# Βιβλιοθήκες"
   ]
  },
  {
   "cell_type": "code",
   "execution_count": 1,
   "id": "86eb02d7",
   "metadata": {
    "_cell_guid": "b1076dfc-b9ad-4769-8c92-a6c4dae69d19",
    "_uuid": "8f2839f25d086af736a60e9eeb907d3b93b6e0e5",
    "execution": {
     "iopub.execute_input": "2022-04-10T00:36:00.422486Z",
     "iopub.status.busy": "2022-04-10T00:36:00.421010Z",
     "iopub.status.idle": "2022-04-10T00:36:08.158554Z",
     "shell.execute_reply": "2022-04-10T00:36:08.157920Z",
     "shell.execute_reply.started": "2022-04-10T00:29:29.477331Z"
    },
    "papermill": {
     "duration": 7.763318,
     "end_time": "2022-04-10T00:36:08.158711",
     "exception": false,
     "start_time": "2022-04-10T00:36:00.395393",
     "status": "completed"
    },
    "tags": []
   },
   "outputs": [],
   "source": [
    "import numpy as np\n",
    "import pandas as pd\n",
    "\n",
    "from sklearn import feature_extraction, model_selection, feature_selection, naive_bayes, pipeline, metrics\n",
    "from sklearn.metrics import classification_report\n",
    "\n",
    "import gensim\n",
    "import gensim.downloader as api\n",
    "from gensim.models.phrases import Phrases\n",
    "\n",
    "from tensorflow.keras import models, layers, preprocessing as kprocessing\n",
    "\n",
    "import transformers"
   ]
  },
  {
   "cell_type": "markdown",
   "id": "1009c8f3",
   "metadata": {
    "papermill": {
     "duration": 0.022767,
     "end_time": "2022-04-10T00:36:08.204686",
     "exception": false,
     "start_time": "2022-04-10T00:36:08.181919",
     "status": "completed"
    },
    "tags": []
   },
   "source": [
    "# Εισαγωγή δεδομένων και επισκόπησή τους"
   ]
  },
  {
   "cell_type": "code",
   "execution_count": 2,
   "id": "3898e0a7",
   "metadata": {
    "execution": {
     "iopub.execute_input": "2022-04-10T00:36:08.253136Z",
     "iopub.status.busy": "2022-04-10T00:36:08.252342Z",
     "iopub.status.idle": "2022-04-10T00:36:08.254757Z",
     "shell.execute_reply": "2022-04-10T00:36:08.254294Z",
     "shell.execute_reply.started": "2022-04-10T00:29:31.234192Z"
    },
    "papermill": {
     "duration": 0.028224,
     "end_time": "2022-04-10T00:36:08.254877",
     "exception": false,
     "start_time": "2022-04-10T00:36:08.226653",
     "status": "completed"
    },
    "tags": []
   },
   "outputs": [],
   "source": [
    "sample_submission_file = \"/kaggle/input/eeestech-challenge-task-3/sample_submission.csv\"\n",
    "train_file = \"/kaggle/input/eestech-challenge-task-3/train.csv\"\n",
    "test_file = \"/kaggle/input/eestech-challenge-task-3/test.csv\""
   ]
  },
  {
   "cell_type": "code",
   "execution_count": 3,
   "id": "9bdcd419",
   "metadata": {
    "execution": {
     "iopub.execute_input": "2022-04-10T00:36:08.303493Z",
     "iopub.status.busy": "2022-04-10T00:36:08.302684Z",
     "iopub.status.idle": "2022-04-10T00:36:09.414317Z",
     "shell.execute_reply": "2022-04-10T00:36:09.414756Z",
     "shell.execute_reply.started": "2022-04-10T00:29:32.246923Z"
    },
    "papermill": {
     "duration": 1.137916,
     "end_time": "2022-04-10T00:36:09.414950",
     "exception": false,
     "start_time": "2022-04-10T00:36:08.277034",
     "status": "completed"
    },
    "tags": []
   },
   "outputs": [
    {
     "data": {
      "text/html": [
       "<div>\n",
       "<style scoped>\n",
       "    .dataframe tbody tr th:only-of-type {\n",
       "        vertical-align: middle;\n",
       "    }\n",
       "\n",
       "    .dataframe tbody tr th {\n",
       "        vertical-align: top;\n",
       "    }\n",
       "\n",
       "    .dataframe thead th {\n",
       "        text-align: right;\n",
       "    }\n",
       "</style>\n",
       "<table border=\"1\" class=\"dataframe\">\n",
       "  <thead>\n",
       "    <tr style=\"text-align: right;\">\n",
       "      <th></th>\n",
       "      <th>pmid</th>\n",
       "      <th>label</th>\n",
       "      <th>abstract</th>\n",
       "      <th>text_clean</th>\n",
       "    </tr>\n",
       "  </thead>\n",
       "  <tbody>\n",
       "    <tr>\n",
       "      <th>0</th>\n",
       "      <td>32716900</td>\n",
       "      <td>Prevention</td>\n",
       "      <td>BACKGROUND: Advance care planning is the proce...</td>\n",
       "      <td>background advance care planning process discu...</td>\n",
       "    </tr>\n",
       "    <tr>\n",
       "      <th>1</th>\n",
       "      <td>32464491</td>\n",
       "      <td>Mechanism</td>\n",
       "      <td>Selenium (Se) is a ubiquitous element akin to ...</td>\n",
       "      <td>selenium se ubiquitous element akin sulfur exi...</td>\n",
       "    </tr>\n",
       "    <tr>\n",
       "      <th>2</th>\n",
       "      <td>32361001</td>\n",
       "      <td>Mechanism</td>\n",
       "      <td>During virus infection, host toll-like recepto...</td>\n",
       "      <td>virus infection host tolllike receptor tlrs re...</td>\n",
       "    </tr>\n",
       "    <tr>\n",
       "      <th>3</th>\n",
       "      <td>32915888</td>\n",
       "      <td>Prevention</td>\n",
       "      <td>Globally, little evidence exists on transmissi...</td>\n",
       "      <td>globally little evidence exists transmission p...</td>\n",
       "    </tr>\n",
       "    <tr>\n",
       "      <th>4</th>\n",
       "      <td>33004659</td>\n",
       "      <td>Prevention</td>\n",
       "      <td>BACKGROUND: The UK has been one of the Europea...</td>\n",
       "      <td>background uk one european country affected co...</td>\n",
       "    </tr>\n",
       "  </tbody>\n",
       "</table>\n",
       "</div>"
      ],
      "text/plain": [
       "       pmid       label                                           abstract  \\\n",
       "0  32716900  Prevention  BACKGROUND: Advance care planning is the proce...   \n",
       "1  32464491   Mechanism  Selenium (Se) is a ubiquitous element akin to ...   \n",
       "2  32361001   Mechanism  During virus infection, host toll-like recepto...   \n",
       "3  32915888  Prevention  Globally, little evidence exists on transmissi...   \n",
       "4  33004659  Prevention  BACKGROUND: The UK has been one of the Europea...   \n",
       "\n",
       "                                          text_clean  \n",
       "0  background advance care planning process discu...  \n",
       "1  selenium se ubiquitous element akin sulfur exi...  \n",
       "2  virus infection host tolllike receptor tlrs re...  \n",
       "3  globally little evidence exists transmission p...  \n",
       "4  background uk one european country affected co...  "
      ]
     },
     "execution_count": 3,
     "metadata": {},
     "output_type": "execute_result"
    }
   ],
   "source": [
    "train_data = pd.read_csv(train_file) \n",
    "test_data = pd.read_csv(test_file) \n",
    "train_data.head()"
   ]
  },
  {
   "cell_type": "code",
   "execution_count": 4,
   "id": "1949755f",
   "metadata": {
    "execution": {
     "iopub.execute_input": "2022-04-10T00:36:09.471928Z",
     "iopub.status.busy": "2022-04-10T00:36:09.471272Z",
     "iopub.status.idle": "2022-04-10T00:36:09.474189Z",
     "shell.execute_reply": "2022-04-10T00:36:09.474747Z",
     "shell.execute_reply.started": "2022-04-10T00:29:34.576203Z"
    },
    "papermill": {
     "duration": 0.034052,
     "end_time": "2022-04-10T00:36:09.474917",
     "exception": false,
     "start_time": "2022-04-10T00:36:09.440865",
     "status": "completed"
    },
    "tags": []
   },
   "outputs": [
    {
     "data": {
      "text/plain": [
       "(20587, 4)"
      ]
     },
     "execution_count": 4,
     "metadata": {},
     "output_type": "execute_result"
    }
   ],
   "source": [
    "train_data.shape"
   ]
  },
  {
   "cell_type": "markdown",
   "id": "c2172a9a",
   "metadata": {
    "papermill": {
     "duration": 0.026837,
     "end_time": "2022-04-10T00:36:09.527142",
     "exception": false,
     "start_time": "2022-04-10T00:36:09.500305",
     "status": "completed"
    },
    "tags": []
   },
   "source": [
    "Ας δούμε την περίληψη του άρθρου της πρώτης γραμμής που είναι στην κατηγορία \"Prevention\"."
   ]
  },
  {
   "cell_type": "code",
   "execution_count": 5,
   "id": "56e8cc3e",
   "metadata": {
    "execution": {
     "iopub.execute_input": "2022-04-10T00:36:09.585363Z",
     "iopub.status.busy": "2022-04-10T00:36:09.584761Z",
     "iopub.status.idle": "2022-04-10T00:36:09.591128Z",
     "shell.execute_reply": "2022-04-10T00:36:09.590554Z",
     "shell.execute_reply.started": "2022-04-10T00:29:35.933084Z"
    },
    "papermill": {
     "duration": 0.038923,
     "end_time": "2022-04-10T00:36:09.591260",
     "exception": false,
     "start_time": "2022-04-10T00:36:09.552337",
     "status": "completed"
    },
    "tags": []
   },
   "outputs": [
    {
     "data": {
      "text/plain": [
       "\"BACKGROUND: Advance care planning is the process of discussing health care treatment preferences based on patients' personal values, and it often involves the completion of advance directives. In the first months of 2020, a novel coronavirus, severe acute respiratory syndrome coronavirus 2 (SARS-CoV-2), began circulating widely in the American state of Colorado, leading to widespread diagnosis of coronavirus disease (COVID-19), hospitalizations, and deaths. In this context, the importance of technology-based, non-face-to-face methods to conduct advance care planning via patient portals has increased. OBJECTIVE: The aim of this study was to determine the rates of use of a web-based advance care planning tool through a health system-based electronic patient portal both before and in the early months of the COVID-19 pandemic. METHODS: In 2017, we implemented web-based tools through the patient portal of UCHealth's electronic health record (EHR) for patients to learn about advance care planning and complete an electronically signed medical durable power of attorney (MDPOA) to legally appoint a medical decision maker. Patients accessing the portal can complete and submit a legally valid MDPOA, which becomes part of their medical record. We collected data on the patients' date of MDPOA completion, use of advance care planning messaging, age, sex, and geographic location during the early phase of the COVID-19 pandemic (December 29, 2019, to May 30, 2020). RESULTS: Over a 5-month period that includes the early phase of the COVID-19 pandemic in Colorado, total monthly use of the advance care planning portal tool increased from 418 users in January to 1037 users in April and then decreased slightly to 815 users in May. The number of MDPOA forms submitted per week increased 2.4-fold after the stay-at-home order was issued in Colorado on March 26, 2020 (P<.001). The mean age of the advance care planning portal users was 47.7 years (SD 16.1), and 2206/3292 (67.0%) were female. Women were more likely than men to complete an MDPOA, particularly in younger age groups (P<.001). The primary use of the advance care planning portal tools was the completion of an MDPOA (3138/3292, 95.3%), compared to sending an electronic message (148/3292, 4.5%). Over 50% of patients who completed an MDPOA did not have a prior agent in the EHR. CONCLUSIONS: Use of a web-based patient portal to complete an MDPOA increased substantially during the first months of the COVID-19 pandemic in Colorado. There was an increase in advance care planning that corresponded with state government shelter-in-place orders as well as public health reports of increased numbers of COVID-19 cases and deaths. Patient portals are an important tool for providing advance care planning resources and documenting medical decision makers during the pandemic to ensure that medical treatment aligns with patient goals and values.\""
      ]
     },
     "execution_count": 5,
     "metadata": {},
     "output_type": "execute_result"
    }
   ],
   "source": [
    "train_data.iloc[0]['abstract']"
   ]
  },
  {
   "cell_type": "markdown",
   "id": "6061409b",
   "metadata": {
    "papermill": {
     "duration": 0.02531,
     "end_time": "2022-04-10T00:36:09.642445",
     "exception": false,
     "start_time": "2022-04-10T00:36:09.617135",
     "status": "completed"
    },
    "tags": []
   },
   "source": [
    "Πράγματι, μιλάει για \"Advance care planning\" κοκ. Ας κάνουμε και μια άλλη δοκιμή:"
   ]
  },
  {
   "cell_type": "code",
   "execution_count": 6,
   "id": "a37f8d21",
   "metadata": {
    "execution": {
     "iopub.execute_input": "2022-04-10T00:36:09.700778Z",
     "iopub.status.busy": "2022-04-10T00:36:09.700040Z",
     "iopub.status.idle": "2022-04-10T00:36:09.703568Z",
     "shell.execute_reply": "2022-04-10T00:36:09.704056Z",
     "shell.execute_reply.started": "2022-04-10T00:29:37.548107Z"
    },
    "papermill": {
     "duration": 0.036013,
     "end_time": "2022-04-10T00:36:09.704206",
     "exception": false,
     "start_time": "2022-04-10T00:36:09.668193",
     "status": "completed"
    },
    "tags": []
   },
   "outputs": [
    {
     "name": "stdout",
     "output_type": "stream",
     "text": [
      "This work presents the modeling and prediction of cases of COVID-19 infection in Mexico through mathematical and computational models using only the confirmed cases provided by the daily technical report COVID-19 MEXICO until May 8(th). The mathematical models: Gompertz and Logistic, as well as the computational model: Artificial Neural Network were applied to carry out the modeling of the number of cases of COVID-19 infection from February 27(th) to May 8(th). The results show a good fit between the observed data and those obtained by the Gompertz, Logistic and Artificial Neural Networks models with an R(2) of 0.9998, 0.9996, 0.9999, respectively. The same mathematical models and inverse Artificial Neural Network were applied to predict the number of cases of COVID-19 infection from May 9(th) to 16(th) in order to analyze tendencies and extrapolate the projection until the end of the epidemic. The Gompertz model predicts a total of 47,576 cases, the Logistic model a total of 42,131 cases, and the inverse artificial neural network model a total of 44,245 as of May 16(th). Finally, to predict the total number of COVID-19 infected until the end of the epidemic, the Gompertz, Logistic and inverse Artificial Neural Network model were used, predicting 469,917, 59,470 and 70,714 cases, respectively.\n",
      "Epidemic Forecasting\n"
     ]
    }
   ],
   "source": [
    "print(train_data.iloc[100]['abstract'])\n",
    "print(train_data.iloc[100]['label'])"
   ]
  },
  {
   "cell_type": "code",
   "execution_count": 7,
   "id": "cfe65101",
   "metadata": {
    "execution": {
     "iopub.execute_input": "2022-04-10T00:36:09.765644Z",
     "iopub.status.busy": "2022-04-10T00:36:09.765017Z",
     "iopub.status.idle": "2022-04-10T00:36:09.768049Z",
     "shell.execute_reply": "2022-04-10T00:36:09.768592Z",
     "shell.execute_reply.started": "2022-04-10T00:29:38.901423Z"
    },
    "papermill": {
     "duration": 0.038308,
     "end_time": "2022-04-10T00:36:09.768743",
     "exception": false,
     "start_time": "2022-04-10T00:36:09.730435",
     "status": "completed"
    },
    "tags": []
   },
   "outputs": [
    {
     "data": {
      "text/html": [
       "<div>\n",
       "<style scoped>\n",
       "    .dataframe tbody tr th:only-of-type {\n",
       "        vertical-align: middle;\n",
       "    }\n",
       "\n",
       "    .dataframe tbody tr th {\n",
       "        vertical-align: top;\n",
       "    }\n",
       "\n",
       "    .dataframe thead th {\n",
       "        text-align: right;\n",
       "    }\n",
       "</style>\n",
       "<table border=\"1\" class=\"dataframe\">\n",
       "  <thead>\n",
       "    <tr style=\"text-align: right;\">\n",
       "      <th></th>\n",
       "      <th>pmid</th>\n",
       "      <th>abstract</th>\n",
       "      <th>text_clean</th>\n",
       "    </tr>\n",
       "  </thead>\n",
       "  <tbody>\n",
       "    <tr>\n",
       "      <th>0</th>\n",
       "      <td>32355107</td>\n",
       "      <td>Coronavirus disease (COVID-19) is responsible ...</td>\n",
       "      <td>coronavirus disease covid19 responsible global...</td>\n",
       "    </tr>\n",
       "    <tr>\n",
       "      <th>1</th>\n",
       "      <td>32606823</td>\n",
       "      <td>The outbreak of coronavirus disease 2019 (COVI...</td>\n",
       "      <td>outbreak coronavirus disease 2019 covid19 pand...</td>\n",
       "    </tr>\n",
       "    <tr>\n",
       "      <th>2</th>\n",
       "      <td>32931811</td>\n",
       "      <td>OBJECTIVE: To describe the implementation and ...</td>\n",
       "      <td>objective describe implementation result proac...</td>\n",
       "    </tr>\n",
       "    <tr>\n",
       "      <th>3</th>\n",
       "      <td>32311451</td>\n",
       "      <td>The coronavirus disease 2019 (COVID-19) was fi...</td>\n",
       "      <td>coronavirus disease 2019 covid19 first reporte...</td>\n",
       "    </tr>\n",
       "    <tr>\n",
       "      <th>4</th>\n",
       "      <td>32395672</td>\n",
       "      <td>As the coronavirus disease 2019 pandemic sprea...</td>\n",
       "      <td>coronavirus disease 2019 pandemic spread aroun...</td>\n",
       "    </tr>\n",
       "  </tbody>\n",
       "</table>\n",
       "</div>"
      ],
      "text/plain": [
       "       pmid                                           abstract  \\\n",
       "0  32355107  Coronavirus disease (COVID-19) is responsible ...   \n",
       "1  32606823  The outbreak of coronavirus disease 2019 (COVI...   \n",
       "2  32931811  OBJECTIVE: To describe the implementation and ...   \n",
       "3  32311451  The coronavirus disease 2019 (COVID-19) was fi...   \n",
       "4  32395672  As the coronavirus disease 2019 pandemic sprea...   \n",
       "\n",
       "                                          text_clean  \n",
       "0  coronavirus disease covid19 responsible global...  \n",
       "1  outbreak coronavirus disease 2019 covid19 pand...  \n",
       "2  objective describe implementation result proac...  \n",
       "3  coronavirus disease 2019 covid19 first reporte...  \n",
       "4  coronavirus disease 2019 pandemic spread aroun...  "
      ]
     },
     "execution_count": 7,
     "metadata": {},
     "output_type": "execute_result"
    }
   ],
   "source": [
    "test_data.head()"
   ]
  },
  {
   "cell_type": "code",
   "execution_count": 8,
   "id": "3259f93a",
   "metadata": {
    "execution": {
     "iopub.execute_input": "2022-04-10T00:36:09.861912Z",
     "iopub.status.busy": "2022-04-10T00:36:09.860926Z",
     "iopub.status.idle": "2022-04-10T00:36:09.868202Z",
     "shell.execute_reply": "2022-04-10T00:36:09.868763Z",
     "shell.execute_reply.started": "2022-04-10T00:29:40.412023Z"
    },
    "papermill": {
     "duration": 0.060303,
     "end_time": "2022-04-10T00:36:09.868994",
     "exception": false,
     "start_time": "2022-04-10T00:36:09.808691",
     "status": "completed"
    },
    "tags": []
   },
   "outputs": [
    {
     "data": {
      "text/plain": [
       "(6862, 3)"
      ]
     },
     "execution_count": 8,
     "metadata": {},
     "output_type": "execute_result"
    }
   ],
   "source": [
    "test_data.shape"
   ]
  },
  {
   "cell_type": "code",
   "execution_count": 9,
   "id": "43528e5c",
   "metadata": {
    "execution": {
     "iopub.execute_input": "2022-04-10T00:36:09.961773Z",
     "iopub.status.busy": "2022-04-10T00:36:09.960971Z",
     "iopub.status.idle": "2022-04-10T00:36:09.972743Z",
     "shell.execute_reply": "2022-04-10T00:36:09.973413Z",
     "shell.execute_reply.started": "2022-04-10T00:29:41.566422Z"
    },
    "papermill": {
     "duration": 0.060139,
     "end_time": "2022-04-10T00:36:09.973603",
     "exception": false,
     "start_time": "2022-04-10T00:36:09.913464",
     "status": "completed"
    },
    "tags": []
   },
   "outputs": [],
   "source": [
    "## split dataset\n",
    "dtf_train, dtf_test = model_selection.train_test_split(train_data, test_size=0.3)\n",
    "## get target\n",
    "y_train = dtf_train[\"label\"].values\n",
    "y_test = dtf_test[\"label\"].values"
   ]
  },
  {
   "cell_type": "markdown",
   "id": "f4b32c01",
   "metadata": {
    "papermill": {
     "duration": 0.038251,
     "end_time": "2022-04-10T00:36:10.056005",
     "exception": false,
     "start_time": "2022-04-10T00:36:10.017754",
     "status": "completed"
    },
    "tags": []
   },
   "source": [
    "# Bag-of-Words\n",
    "Η παραδοσιακή μέθοδος NLP μετατροπής κειμένων σε διανύσματα."
   ]
  },
  {
   "cell_type": "code",
   "execution_count": 10,
   "id": "c7dea31e",
   "metadata": {
    "execution": {
     "iopub.execute_input": "2022-04-10T00:36:10.140717Z",
     "iopub.status.busy": "2022-04-10T00:36:10.139893Z",
     "iopub.status.idle": "2022-04-10T00:36:10.142171Z",
     "shell.execute_reply": "2022-04-10T00:36:10.141444Z",
     "shell.execute_reply.started": "2022-04-10T00:29:42.779641Z"
    },
    "papermill": {
     "duration": 0.047952,
     "end_time": "2022-04-10T00:36:10.142331",
     "exception": false,
     "start_time": "2022-04-10T00:36:10.094379",
     "status": "completed"
    },
    "tags": []
   },
   "outputs": [],
   "source": [
    "## Count (classic BoW)\n",
    "vectorizer = feature_extraction.text.CountVectorizer(max_features=10000, ngram_range=(1,2))\n",
    "\n",
    "## Tf-Idf (advanced variant of BoW)\n",
    "vectorizer = feature_extraction.text.TfidfVectorizer(max_features=10000, ngram_range=(1,2))"
   ]
  },
  {
   "cell_type": "code",
   "execution_count": 11,
   "id": "69fe22fb",
   "metadata": {
    "execution": {
     "iopub.execute_input": "2022-04-10T00:36:10.227755Z",
     "iopub.status.busy": "2022-04-10T00:36:10.226971Z",
     "iopub.status.idle": "2022-04-10T00:36:21.544438Z",
     "shell.execute_reply": "2022-04-10T00:36:21.543333Z",
     "shell.execute_reply.started": "2022-04-10T00:29:45.347308Z"
    },
    "papermill": {
     "duration": 11.363105,
     "end_time": "2022-04-10T00:36:21.544605",
     "exception": false,
     "start_time": "2022-04-10T00:36:10.181500",
     "status": "completed"
    },
    "tags": []
   },
   "outputs": [],
   "source": [
    "corpus = dtf_train[\"text_clean\"].astype('U')\n",
    "vectorizer.fit(corpus)\n",
    "X_train = vectorizer.transform(corpus)"
   ]
  },
  {
   "cell_type": "code",
   "execution_count": 12,
   "id": "b3e9b9c1",
   "metadata": {
    "execution": {
     "iopub.execute_input": "2022-04-10T00:36:21.600866Z",
     "iopub.status.busy": "2022-04-10T00:36:21.600292Z",
     "iopub.status.idle": "2022-04-10T00:36:21.603241Z",
     "shell.execute_reply": "2022-04-10T00:36:21.603801Z",
     "shell.execute_reply.started": "2022-04-10T00:29:58.257082Z"
    },
    "papermill": {
     "duration": 0.033453,
     "end_time": "2022-04-10T00:36:21.603999",
     "exception": false,
     "start_time": "2022-04-10T00:36:21.570546",
     "status": "completed"
    },
    "tags": []
   },
   "outputs": [
    {
     "name": "stdout",
     "output_type": "stream",
     "text": [
      "17628    coronavirus disease2019 covid19 severe impact ...\n",
      "17506    objective patient covid19 may present respirat...\n",
      "8780     emergence highly transmissible sarscov2 varian...\n",
      "11991    background evaluate diagnostic efficacy densel...\n",
      "13829    abstrakcovid19 telah menjadi pandemik di indon...\n",
      "                               ...                        \n",
      "18201    background severe acute respiratory syndrome s...\n",
      "3958     coronaviruses covs large family virus cause di...\n",
      "14776    objective understanding novel coronavirus covi...\n",
      "12113    coronavirus disease 19 covid19 turned pandemic...\n",
      "8209     loss smell taste common complaint patient covi...\n",
      "Name: text_clean, Length: 14410, dtype: object\n"
     ]
    }
   ],
   "source": [
    "print(corpus)"
   ]
  },
  {
   "cell_type": "code",
   "execution_count": 13,
   "id": "cc209fd4",
   "metadata": {
    "execution": {
     "iopub.execute_input": "2022-04-10T00:36:21.660166Z",
     "iopub.status.busy": "2022-04-10T00:36:21.658626Z",
     "iopub.status.idle": "2022-04-10T00:36:21.674526Z",
     "shell.execute_reply": "2022-04-10T00:36:21.675139Z",
     "shell.execute_reply.started": "2022-04-10T00:24:49.402907Z"
    },
    "papermill": {
     "duration": 0.045032,
     "end_time": "2022-04-10T00:36:21.675325",
     "exception": false,
     "start_time": "2022-04-10T00:36:21.630293",
     "status": "completed"
    },
    "tags": []
   },
   "outputs": [
    {
     "name": "stdout",
     "output_type": "stream",
     "text": [
      "  (0, 9956)\t0.08292752908096584\n",
      "  (0, 9910)\t0.07052778679783324\n",
      "  (0, 9653)\t0.11837947385409926\n",
      "  (0, 9562)\t0.07307626899055777\n",
      "  (0, 9513)\t0.2139283933562384\n",
      "  (0, 9331)\t0.06425346108992852\n",
      "  (0, 9325)\t0.12010891088149392\n",
      "  (0, 9014)\t0.12791432325274424\n",
      "  (0, 9013)\t0.16428721570070587\n",
      "  (0, 8991)\t0.08554338173685706\n",
      "  (0, 8944)\t0.11544721050644496\n",
      "  (0, 8872)\t0.13297070199925592\n",
      "  (0, 8845)\t0.09623016618457027\n",
      "  (0, 8843)\t0.07830733545429687\n",
      "  (0, 8678)\t0.11603074422565053\n",
      "  (0, 8433)\t0.12607913829552625\n",
      "  (0, 8412)\t0.22510987892200926\n",
      "  (0, 8093)\t0.06530658623737133\n",
      "  (0, 7893)\t0.10346968202523227\n",
      "  (0, 7658)\t0.08283893662232333\n",
      "  (0, 7264)\t0.08664797917235892\n",
      "  (0, 6910)\t0.09071246314352296\n",
      "  (0, 6771)\t0.13400797307671944\n",
      "  (0, 6616)\t0.03194367465524602\n",
      "  (0, 6539)\t0.1411424784793411\n",
      "  :\t:\n",
      "  (14409, 1651)\t0.04241386503328609\n",
      "  (14409, 1650)\t0.04005008888383883\n",
      "  (14409, 1627)\t0.07618108448013651\n",
      "  (14409, 1530)\t0.044962372942633035\n",
      "  (14409, 1520)\t0.0430050241798329\n",
      "  (14409, 1299)\t0.03967862312798905\n",
      "  (14409, 1121)\t0.03999618033688015\n",
      "  (14409, 1113)\t0.03836136256457785\n",
      "  (14409, 937)\t0.361419677109267\n",
      "  (14409, 936)\t0.29208702008840154\n",
      "  (14409, 886)\t0.07022324814262662\n",
      "  (14409, 884)\t0.02772207733616495\n",
      "  (14409, 809)\t0.05182539685877797\n",
      "  (14409, 761)\t0.04573780696372711\n",
      "  (14409, 749)\t0.03120385188613041\n",
      "  (14409, 735)\t0.34486056748792826\n",
      "  (14409, 722)\t0.055361534552457806\n",
      "  (14409, 721)\t0.06084320624890902\n",
      "  (14409, 717)\t0.0608351979700871\n",
      "  (14409, 380)\t0.0478667754352554\n",
      "  (14409, 353)\t0.039862651938928566\n",
      "  (14409, 294)\t0.045388360088338006\n",
      "  (14409, 249)\t0.023213387029710614\n",
      "  (14409, 126)\t0.06543295857157942\n",
      "  (14409, 68)\t0.06094918947661242\n"
     ]
    }
   ],
   "source": [
    "print(X_train)"
   ]
  },
  {
   "cell_type": "code",
   "execution_count": 14,
   "id": "c6d8597d",
   "metadata": {
    "execution": {
     "iopub.execute_input": "2022-04-10T00:36:21.731790Z",
     "iopub.status.busy": "2022-04-10T00:36:21.731043Z",
     "iopub.status.idle": "2022-04-10T00:36:21.733455Z",
     "shell.execute_reply": "2022-04-10T00:36:21.733037Z",
     "shell.execute_reply.started": "2022-04-10T00:24:49.430644Z"
    },
    "papermill": {
     "duration": 0.031871,
     "end_time": "2022-04-10T00:36:21.733567",
     "exception": false,
     "start_time": "2022-04-10T00:36:21.701696",
     "status": "completed"
    },
    "tags": []
   },
   "outputs": [],
   "source": [
    "# print(y_train)"
   ]
  },
  {
   "cell_type": "markdown",
   "id": "3fdd333a",
   "metadata": {
    "papermill": {
     "duration": 0.025181,
     "end_time": "2022-04-10T00:36:21.784202",
     "exception": false,
     "start_time": "2022-04-10T00:36:21.759021",
     "status": "completed"
    },
    "tags": []
   },
   "source": [
    "## Ένας απλός ταξινομητής"
   ]
  },
  {
   "cell_type": "code",
   "execution_count": 15,
   "id": "38d2af08",
   "metadata": {
    "execution": {
     "iopub.execute_input": "2022-04-10T00:36:21.840536Z",
     "iopub.status.busy": "2022-04-10T00:36:21.839774Z",
     "iopub.status.idle": "2022-04-10T00:36:21.842541Z",
     "shell.execute_reply": "2022-04-10T00:36:21.842031Z",
     "shell.execute_reply.started": "2022-04-10T00:24:49.437974Z"
    },
    "papermill": {
     "duration": 0.031302,
     "end_time": "2022-04-10T00:36:21.842645",
     "exception": false,
     "start_time": "2022-04-10T00:36:21.811343",
     "status": "completed"
    },
    "tags": []
   },
   "outputs": [],
   "source": [
    "# classifier = naive_bayes.MultinomialNB()"
   ]
  },
  {
   "cell_type": "code",
   "execution_count": 16,
   "id": "62f3a69d",
   "metadata": {
    "execution": {
     "iopub.execute_input": "2022-04-10T00:36:21.898194Z",
     "iopub.status.busy": "2022-04-10T00:36:21.897513Z",
     "iopub.status.idle": "2022-04-10T00:36:21.899576Z",
     "shell.execute_reply": "2022-04-10T00:36:21.900016Z",
     "shell.execute_reply.started": "2022-04-10T00:24:49.449045Z"
    },
    "papermill": {
     "duration": 0.031197,
     "end_time": "2022-04-10T00:36:21.900145",
     "exception": false,
     "start_time": "2022-04-10T00:36:21.868948",
     "status": "completed"
    },
    "tags": []
   },
   "outputs": [],
   "source": [
    "# ## pipeline\n",
    "# model = pipeline.Pipeline([(\"vectorizer\", vectorizer),  \n",
    "#                            (\"classifier\", classifier)])\n",
    "# ## train classifier\n",
    "# model[\"classifier\"].fit(X_train, y_train)\n",
    "# ## test\n",
    "# X_test = dtf_test[\"text_clean\"].values.astype('U')\n",
    "# predicted = model.predict(X_test)"
   ]
  },
  {
   "cell_type": "code",
   "execution_count": 17,
   "id": "5210a768",
   "metadata": {
    "execution": {
     "iopub.execute_input": "2022-04-10T00:36:21.955030Z",
     "iopub.status.busy": "2022-04-10T00:36:21.954238Z",
     "iopub.status.idle": "2022-04-10T00:36:21.956036Z",
     "shell.execute_reply": "2022-04-10T00:36:21.956471Z",
     "shell.execute_reply.started": "2022-04-10T00:24:49.459397Z"
    },
    "papermill": {
     "duration": 0.031148,
     "end_time": "2022-04-10T00:36:21.956592",
     "exception": false,
     "start_time": "2022-04-10T00:36:21.925444",
     "status": "completed"
    },
    "tags": []
   },
   "outputs": [],
   "source": [
    "# print(classification_report(y_test, predicted, zero_division=0))"
   ]
  },
  {
   "cell_type": "code",
   "execution_count": 18,
   "id": "d7ff8cdb",
   "metadata": {
    "execution": {
     "iopub.execute_input": "2022-04-10T00:36:22.013724Z",
     "iopub.status.busy": "2022-04-10T00:36:22.012756Z",
     "iopub.status.idle": "2022-04-10T00:41:22.462588Z",
     "shell.execute_reply": "2022-04-10T00:41:22.462093Z",
     "shell.execute_reply.started": "2022-04-10T00:29:58.268088Z"
    },
    "papermill": {
     "duration": 300.480575,
     "end_time": "2022-04-10T00:41:22.462733",
     "exception": false,
     "start_time": "2022-04-10T00:36:21.982158",
     "status": "completed"
    },
    "tags": []
   },
   "outputs": [],
   "source": [
    "from sklearn.svm import SVC\n",
    "classifier = SVC(kernel = 'linear', C = 1, cache_size = 1000).fit(X_train, y_train)\n",
    "## pipeline\n",
    "model = pipeline.Pipeline([(\"vectorizer\", vectorizer),  \n",
    "                           (\"classifier\", classifier)])\n",
    "## train classifier\n",
    "model[\"classifier\"].fit(X_train, y_train)\n",
    "## test\n",
    "X_test = dtf_test[\"text_clean\"].values.astype('U')\n",
    "predicted = model.predict(X_test)"
   ]
  },
  {
   "cell_type": "code",
   "execution_count": 19,
   "id": "f9b7f98b",
   "metadata": {
    "execution": {
     "iopub.execute_input": "2022-04-10T00:41:22.642552Z",
     "iopub.status.busy": "2022-04-10T00:41:22.591858Z",
     "iopub.status.idle": "2022-04-10T00:41:22.748139Z",
     "shell.execute_reply": "2022-04-10T00:41:22.748525Z",
     "shell.execute_reply.started": "2022-04-10T00:34:56.300784Z"
    },
    "papermill": {
     "duration": 0.260139,
     "end_time": "2022-04-10T00:41:22.748681",
     "exception": false,
     "start_time": "2022-04-10T00:41:22.488542",
     "status": "completed"
    },
    "tags": []
   },
   "outputs": [
    {
     "name": "stdout",
     "output_type": "stream",
     "text": [
      "                      precision    recall  f1-score   support\n",
      "\n",
      "         Case Report       0.84      0.75      0.79       491\n",
      "           Diagnosis       0.73      0.69      0.71       927\n",
      "Epidemic Forecasting       0.64      0.31      0.42        97\n",
      "           Mechanism       0.65      0.36      0.47       387\n",
      "          Prevention       0.87      0.94      0.91      2429\n",
      "        Transmission       0.64      0.27      0.38       113\n",
      "           Treatment       0.76      0.85      0.81      1733\n",
      "\n",
      "            accuracy                           0.80      6177\n",
      "           macro avg       0.73      0.60      0.64      6177\n",
      "        weighted avg       0.80      0.80      0.79      6177\n",
      "\n"
     ]
    }
   ],
   "source": [
    "print(classification_report(y_test, predicted, zero_division=0))"
   ]
  },
  {
   "cell_type": "markdown",
   "id": "f185bd5f",
   "metadata": {
    "papermill": {
     "duration": 0.025406,
     "end_time": "2022-04-10T00:41:22.800208",
     "exception": false,
     "start_time": "2022-04-10T00:41:22.774802",
     "status": "completed"
    },
    "tags": []
   },
   "source": [
    "## Πρόβλεψη\n",
    "Στα test data πλέον."
   ]
  },
  {
   "cell_type": "code",
   "execution_count": 20,
   "id": "74b36c5f",
   "metadata": {
    "execution": {
     "iopub.execute_input": "2022-04-10T00:41:22.856295Z",
     "iopub.status.busy": "2022-04-10T00:41:22.853291Z",
     "iopub.status.idle": "2022-04-10T00:41:22.858544Z",
     "shell.execute_reply": "2022-04-10T00:41:22.858131Z"
    },
    "papermill": {
     "duration": 0.033132,
     "end_time": "2022-04-10T00:41:22.858652",
     "exception": false,
     "start_time": "2022-04-10T00:41:22.825520",
     "status": "completed"
    },
    "tags": []
   },
   "outputs": [],
   "source": [
    "final_test_X = test_data[\"text_clean\"].astype('U')"
   ]
  },
  {
   "cell_type": "markdown",
   "id": "eacf7be9",
   "metadata": {
    "papermill": {
     "duration": 0.025331,
     "end_time": "2022-04-10T00:41:22.909579",
     "exception": false,
     "start_time": "2022-04-10T00:41:22.884248",
     "status": "completed"
    },
    "tags": []
   },
   "source": [
    "# Υποβολή"
   ]
  },
  {
   "cell_type": "code",
   "execution_count": 21,
   "id": "bded78a3",
   "metadata": {
    "execution": {
     "iopub.execute_input": "2022-04-10T00:41:22.974587Z",
     "iopub.status.busy": "2022-04-10T00:41:22.963847Z",
     "iopub.status.idle": "2022-04-10T00:42:24.099082Z",
     "shell.execute_reply": "2022-04-10T00:42:24.098162Z"
    },
    "papermill": {
     "duration": 61.163666,
     "end_time": "2022-04-10T00:42:24.099230",
     "exception": false,
     "start_time": "2022-04-10T00:41:22.935564",
     "status": "completed"
    },
    "tags": []
   },
   "outputs": [],
   "source": [
    "final_predictions = model.predict(final_test_X)\n",
    "df_final_predictions = pd.DataFrame(final_predictions)\n",
    "df_final_predictions.columns=['label']\n",
    "df_ids = test_data[[\"pmid\"]].copy()\n",
    "submission_concat = pd.concat([df_ids, df_final_predictions], axis=1)\n",
    "mapping = {'Case Report': 0, 'Diagnosis': 1, 'Epidemic Forecasting': 2, 'Mechanism': 3, 'Prevention': 4, 'Transmission': 5, 'Treatment': 6}\n",
    "submission_df=submission_concat.replace({\"label\": mapping})\n",
    "submission_df.to_csv('submission.csv', index=False)"
   ]
  },
  {
   "cell_type": "code",
   "execution_count": 22,
   "id": "d6423ae2",
   "metadata": {
    "execution": {
     "iopub.execute_input": "2022-04-10T00:42:24.160309Z",
     "iopub.status.busy": "2022-04-10T00:42:24.159643Z",
     "iopub.status.idle": "2022-04-10T00:42:24.162447Z",
     "shell.execute_reply": "2022-04-10T00:42:24.162871Z"
    },
    "papermill": {
     "duration": 0.037431,
     "end_time": "2022-04-10T00:42:24.163004",
     "exception": false,
     "start_time": "2022-04-10T00:42:24.125573",
     "status": "completed"
    },
    "tags": []
   },
   "outputs": [
    {
     "data": {
      "text/html": [
       "<div>\n",
       "<style scoped>\n",
       "    .dataframe tbody tr th:only-of-type {\n",
       "        vertical-align: middle;\n",
       "    }\n",
       "\n",
       "    .dataframe tbody tr th {\n",
       "        vertical-align: top;\n",
       "    }\n",
       "\n",
       "    .dataframe thead th {\n",
       "        text-align: right;\n",
       "    }\n",
       "</style>\n",
       "<table border=\"1\" class=\"dataframe\">\n",
       "  <thead>\n",
       "    <tr style=\"text-align: right;\">\n",
       "      <th></th>\n",
       "      <th>pmid</th>\n",
       "      <th>label</th>\n",
       "    </tr>\n",
       "  </thead>\n",
       "  <tbody>\n",
       "    <tr>\n",
       "      <th>0</th>\n",
       "      <td>32355107</td>\n",
       "      <td>4</td>\n",
       "    </tr>\n",
       "    <tr>\n",
       "      <th>1</th>\n",
       "      <td>32606823</td>\n",
       "      <td>6</td>\n",
       "    </tr>\n",
       "    <tr>\n",
       "      <th>2</th>\n",
       "      <td>32931811</td>\n",
       "      <td>4</td>\n",
       "    </tr>\n",
       "    <tr>\n",
       "      <th>3</th>\n",
       "      <td>32311451</td>\n",
       "      <td>6</td>\n",
       "    </tr>\n",
       "    <tr>\n",
       "      <th>4</th>\n",
       "      <td>32395672</td>\n",
       "      <td>4</td>\n",
       "    </tr>\n",
       "    <tr>\n",
       "      <th>...</th>\n",
       "      <td>...</td>\n",
       "      <td>...</td>\n",
       "    </tr>\n",
       "    <tr>\n",
       "      <th>6857</th>\n",
       "      <td>34226887</td>\n",
       "      <td>4</td>\n",
       "    </tr>\n",
       "    <tr>\n",
       "      <th>6858</th>\n",
       "      <td>34216472</td>\n",
       "      <td>6</td>\n",
       "    </tr>\n",
       "    <tr>\n",
       "      <th>6859</th>\n",
       "      <td>32826763</td>\n",
       "      <td>4</td>\n",
       "    </tr>\n",
       "    <tr>\n",
       "      <th>6860</th>\n",
       "      <td>32793973</td>\n",
       "      <td>4</td>\n",
       "    </tr>\n",
       "    <tr>\n",
       "      <th>6861</th>\n",
       "      <td>32628143</td>\n",
       "      <td>4</td>\n",
       "    </tr>\n",
       "  </tbody>\n",
       "</table>\n",
       "<p>6862 rows × 2 columns</p>\n",
       "</div>"
      ],
      "text/plain": [
       "          pmid  label\n",
       "0     32355107      4\n",
       "1     32606823      6\n",
       "2     32931811      4\n",
       "3     32311451      6\n",
       "4     32395672      4\n",
       "...        ...    ...\n",
       "6857  34226887      4\n",
       "6858  34216472      6\n",
       "6859  32826763      4\n",
       "6860  32793973      4\n",
       "6861  32628143      4\n",
       "\n",
       "[6862 rows x 2 columns]"
      ]
     },
     "execution_count": 22,
     "metadata": {},
     "output_type": "execute_result"
    }
   ],
   "source": [
    "submission_df"
   ]
  }
 ],
 "metadata": {
  "kernelspec": {
   "display_name": "Python 3",
   "language": "python",
   "name": "python3"
  },
  "language_info": {
   "codemirror_mode": {
    "name": "ipython",
    "version": 3
   },
   "file_extension": ".py",
   "mimetype": "text/x-python",
   "name": "python",
   "nbconvert_exporter": "python",
   "pygments_lexer": "ipython3",
   "version": "3.7.12"
  },
  "papermill": {
   "default_parameters": {},
   "duration": 394.433965,
   "end_time": "2022-04-10T00:42:27.011247",
   "environment_variables": {},
   "exception": null,
   "input_path": "__notebook__.ipynb",
   "output_path": "__notebook__.ipynb",
   "parameters": {},
   "start_time": "2022-04-10T00:35:52.577282",
   "version": "2.3.3"
  }
 },
 "nbformat": 4,
 "nbformat_minor": 5
}
