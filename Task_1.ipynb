{
 "cells": [
  {
   "cell_type": "code",
   "execution_count": 1,
   "id": "e4de4341",
   "metadata": {
    "_cell_guid": "b1076dfc-b9ad-4769-8c92-a6c4dae69d19",
    "_uuid": "8f2839f25d086af736a60e9eeb907d3b93b6e0e5",
    "execution": {
     "iopub.execute_input": "2022-04-09T15:56:21.241586Z",
     "iopub.status.busy": "2022-04-09T15:56:21.240648Z",
     "iopub.status.idle": "2022-04-09T15:56:21.249744Z",
     "shell.execute_reply": "2022-04-09T15:56:21.250550Z",
     "shell.execute_reply.started": "2022-04-09T15:53:40.561639Z"
    },
    "papermill": {
     "duration": 0.043006,
     "end_time": "2022-04-09T15:56:21.251083",
     "exception": false,
     "start_time": "2022-04-09T15:56:21.208077",
     "status": "completed"
    },
    "tags": []
   },
   "outputs": [
    {
     "name": "stdout",
     "output_type": "stream",
     "text": [
      "/kaggle/input/eeestech-challenge-task-1/sample_submission.csv\n",
      "/kaggle/input/eeestech-challenge-task-1/train.csv\n",
      "/kaggle/input/eeestech-challenge-task-1/test.csv\n"
     ]
    }
   ],
   "source": [
    "import numpy as np\n",
    "import pandas as pd # data processing, CSV file I/O (e.g. pd.read_csv)\n",
    "\n",
    "# Input data files are available in the read-only \"../input/\" directory\n",
    "# For example, running this (by clicking run or pressing Shift+Enter) will list all files under the input directory\n",
    "\n",
    "import os\n",
    "for dirname, _, filenames in os.walk('/kaggle/input'):\n",
    "    for filename in filenames:\n",
    "        print(os.path.join(dirname, filename))\n",
    "\n",
    "# You can write up to 20GB to the current directory (/kaggle/working/) that gets preserved as output when you create a version using \"Save & Run All\" \n",
    "# You can also write temporary files to /kaggle/temp/, but they won't be saved outside of the current session"
   ]
  },
  {
   "cell_type": "markdown",
   "id": "36d8625b",
   "metadata": {
    "papermill": {
     "duration": 0.023999,
     "end_time": "2022-04-09T15:56:21.301080",
     "exception": false,
     "start_time": "2022-04-09T15:56:21.277081",
     "status": "completed"
    },
    "tags": []
   },
   "source": [
    "# Διαβάζουμε τα αρχεία του διαγωνισμού\n",
    "Εδώ δεν χρειάζεται να πειράξετε κάτι"
   ]
  },
  {
   "cell_type": "code",
   "execution_count": 2,
   "id": "861892ad",
   "metadata": {
    "execution": {
     "iopub.execute_input": "2022-04-09T15:56:21.353218Z",
     "iopub.status.busy": "2022-04-09T15:56:21.352389Z",
     "iopub.status.idle": "2022-04-09T15:56:21.355625Z",
     "shell.execute_reply": "2022-04-09T15:56:21.356292Z",
     "shell.execute_reply.started": "2022-04-09T15:53:40.592667Z"
    },
    "papermill": {
     "duration": 0.030802,
     "end_time": "2022-04-09T15:56:21.356464",
     "exception": false,
     "start_time": "2022-04-09T15:56:21.325662",
     "status": "completed"
    },
    "tags": []
   },
   "outputs": [],
   "source": [
    "sample_submission_file = \"/kaggle/input/eeestech-challenge-task-1/sample_submission.csv\"\n",
    "train_file = \"/kaggle/input/eeestech-challenge-task-1/train.csv\"\n",
    "test_file = \"/kaggle/input/eeestech-challenge-task-1/test.csv\""
   ]
  },
  {
   "cell_type": "code",
   "execution_count": 3,
   "id": "c0b26a11",
   "metadata": {
    "execution": {
     "iopub.execute_input": "2022-04-09T15:56:21.405444Z",
     "iopub.status.busy": "2022-04-09T15:56:21.404708Z",
     "iopub.status.idle": "2022-04-09T15:56:25.239813Z",
     "shell.execute_reply": "2022-04-09T15:56:25.240353Z",
     "shell.execute_reply.started": "2022-04-09T15:53:40.597793Z"
    },
    "papermill": {
     "duration": 3.861289,
     "end_time": "2022-04-09T15:56:25.240531",
     "exception": false,
     "start_time": "2022-04-09T15:56:21.379242",
     "status": "completed"
    },
    "tags": []
   },
   "outputs": [
    {
     "data": {
      "text/html": [
       "<div>\n",
       "<style scoped>\n",
       "    .dataframe tbody tr th:only-of-type {\n",
       "        vertical-align: middle;\n",
       "    }\n",
       "\n",
       "    .dataframe tbody tr th {\n",
       "        vertical-align: top;\n",
       "    }\n",
       "\n",
       "    .dataframe thead th {\n",
       "        text-align: right;\n",
       "    }\n",
       "</style>\n",
       "<table border=\"1\" class=\"dataframe\">\n",
       "  <thead>\n",
       "    <tr style=\"text-align: right;\">\n",
       "      <th></th>\n",
       "      <th>0</th>\n",
       "      <th>1</th>\n",
       "      <th>2</th>\n",
       "      <th>3</th>\n",
       "      <th>4</th>\n",
       "      <th>5</th>\n",
       "      <th>6</th>\n",
       "      <th>7</th>\n",
       "      <th>8</th>\n",
       "      <th>9</th>\n",
       "      <th>...</th>\n",
       "      <th>1732</th>\n",
       "      <th>1733</th>\n",
       "      <th>1734</th>\n",
       "      <th>1735</th>\n",
       "      <th>1736</th>\n",
       "      <th>1737</th>\n",
       "      <th>1738</th>\n",
       "      <th>1739</th>\n",
       "      <th>1740</th>\n",
       "      <th>1741</th>\n",
       "    </tr>\n",
       "  </thead>\n",
       "  <tbody>\n",
       "    <tr>\n",
       "      <th>0</th>\n",
       "      <td>A7JJ55</td>\n",
       "      <td>0</td>\n",
       "      <td>1.902</td>\n",
       "      <td>0.224</td>\n",
       "      <td>1.007</td>\n",
       "      <td>1.678</td>\n",
       "      <td>1.119</td>\n",
       "      <td>1.566</td>\n",
       "      <td>0.448</td>\n",
       "      <td>1.231</td>\n",
       "      <td>...</td>\n",
       "      <td>3.950</td>\n",
       "      <td>3.763</td>\n",
       "      <td>3.607</td>\n",
       "      <td>3.963</td>\n",
       "      <td>4.343</td>\n",
       "      <td>3.988</td>\n",
       "      <td>3.787</td>\n",
       "      <td>4.073</td>\n",
       "      <td>3.915</td>\n",
       "      <td>3.879</td>\n",
       "    </tr>\n",
       "    <tr>\n",
       "      <th>1</th>\n",
       "      <td>A6G489</td>\n",
       "      <td>0</td>\n",
       "      <td>1.418</td>\n",
       "      <td>0.000</td>\n",
       "      <td>2.269</td>\n",
       "      <td>1.418</td>\n",
       "      <td>0.284</td>\n",
       "      <td>0.284</td>\n",
       "      <td>0.000</td>\n",
       "      <td>0.851</td>\n",
       "      <td>...</td>\n",
       "      <td>3.961</td>\n",
       "      <td>4.146</td>\n",
       "      <td>4.321</td>\n",
       "      <td>4.291</td>\n",
       "      <td>4.043</td>\n",
       "      <td>4.138</td>\n",
       "      <td>3.841</td>\n",
       "      <td>3.722</td>\n",
       "      <td>4.121</td>\n",
       "      <td>4.063</td>\n",
       "    </tr>\n",
       "    <tr>\n",
       "      <th>2</th>\n",
       "      <td>81387225</td>\n",
       "      <td>0</td>\n",
       "      <td>1.388</td>\n",
       "      <td>2.776</td>\n",
       "      <td>1.388</td>\n",
       "      <td>1.388</td>\n",
       "      <td>0.000</td>\n",
       "      <td>0.000</td>\n",
       "      <td>0.000</td>\n",
       "      <td>2.776</td>\n",
       "      <td>...</td>\n",
       "      <td>3.552</td>\n",
       "      <td>1.819</td>\n",
       "      <td>4.381</td>\n",
       "      <td>3.705</td>\n",
       "      <td>2.250</td>\n",
       "      <td>4.423</td>\n",
       "      <td>7.612</td>\n",
       "      <td>3.943</td>\n",
       "      <td>0.684</td>\n",
       "      <td>1.529</td>\n",
       "    </tr>\n",
       "    <tr>\n",
       "      <th>3</th>\n",
       "      <td>Q4RV41</td>\n",
       "      <td>0</td>\n",
       "      <td>1.779</td>\n",
       "      <td>0.000</td>\n",
       "      <td>0.000</td>\n",
       "      <td>0.000</td>\n",
       "      <td>0.000</td>\n",
       "      <td>1.779</td>\n",
       "      <td>0.000</td>\n",
       "      <td>5.338</td>\n",
       "      <td>...</td>\n",
       "      <td>5.237</td>\n",
       "      <td>5.055</td>\n",
       "      <td>5.294</td>\n",
       "      <td>7.903</td>\n",
       "      <td>4.982</td>\n",
       "      <td>5.465</td>\n",
       "      <td>3.711</td>\n",
       "      <td>0.175</td>\n",
       "      <td>0.000</td>\n",
       "      <td>0.000</td>\n",
       "    </tr>\n",
       "    <tr>\n",
       "      <th>4</th>\n",
       "      <td>A5H2S3</td>\n",
       "      <td>0</td>\n",
       "      <td>2.479</td>\n",
       "      <td>0.000</td>\n",
       "      <td>1.928</td>\n",
       "      <td>2.204</td>\n",
       "      <td>0.275</td>\n",
       "      <td>1.102</td>\n",
       "      <td>0.000</td>\n",
       "      <td>1.102</td>\n",
       "      <td>...</td>\n",
       "      <td>2.893</td>\n",
       "      <td>3.862</td>\n",
       "      <td>3.858</td>\n",
       "      <td>3.554</td>\n",
       "      <td>3.173</td>\n",
       "      <td>3.836</td>\n",
       "      <td>3.742</td>\n",
       "      <td>3.662</td>\n",
       "      <td>3.128</td>\n",
       "      <td>3.255</td>\n",
       "    </tr>\n",
       "    <tr>\n",
       "      <th>...</th>\n",
       "      <td>...</td>\n",
       "      <td>...</td>\n",
       "      <td>...</td>\n",
       "      <td>...</td>\n",
       "      <td>...</td>\n",
       "      <td>...</td>\n",
       "      <td>...</td>\n",
       "      <td>...</td>\n",
       "      <td>...</td>\n",
       "      <td>...</td>\n",
       "      <td>...</td>\n",
       "      <td>...</td>\n",
       "      <td>...</td>\n",
       "      <td>...</td>\n",
       "      <td>...</td>\n",
       "      <td>...</td>\n",
       "      <td>...</td>\n",
       "      <td>...</td>\n",
       "      <td>...</td>\n",
       "      <td>...</td>\n",
       "      <td>...</td>\n",
       "    </tr>\n",
       "    <tr>\n",
       "      <th>95</th>\n",
       "      <td>81936884</td>\n",
       "      <td>0</td>\n",
       "      <td>0.000</td>\n",
       "      <td>1.760</td>\n",
       "      <td>1.760</td>\n",
       "      <td>2.640</td>\n",
       "      <td>0.000</td>\n",
       "      <td>0.880</td>\n",
       "      <td>0.000</td>\n",
       "      <td>0.880</td>\n",
       "      <td>...</td>\n",
       "      <td>3.433</td>\n",
       "      <td>3.942</td>\n",
       "      <td>2.855</td>\n",
       "      <td>5.121</td>\n",
       "      <td>2.472</td>\n",
       "      <td>5.835</td>\n",
       "      <td>3.931</td>\n",
       "      <td>5.662</td>\n",
       "      <td>4.005</td>\n",
       "      <td>4.804</td>\n",
       "    </tr>\n",
       "    <tr>\n",
       "      <th>96</th>\n",
       "      <td>123065912</td>\n",
       "      <td>0</td>\n",
       "      <td>2.007</td>\n",
       "      <td>0.118</td>\n",
       "      <td>1.181</td>\n",
       "      <td>1.535</td>\n",
       "      <td>1.181</td>\n",
       "      <td>1.653</td>\n",
       "      <td>0.236</td>\n",
       "      <td>0.826</td>\n",
       "      <td>...</td>\n",
       "      <td>4.403</td>\n",
       "      <td>3.955</td>\n",
       "      <td>4.294</td>\n",
       "      <td>4.115</td>\n",
       "      <td>3.706</td>\n",
       "      <td>3.682</td>\n",
       "      <td>4.136</td>\n",
       "      <td>3.548</td>\n",
       "      <td>3.882</td>\n",
       "      <td>3.645</td>\n",
       "    </tr>\n",
       "    <tr>\n",
       "      <th>97</th>\n",
       "      <td>Q77LW8</td>\n",
       "      <td>0</td>\n",
       "      <td>1.362</td>\n",
       "      <td>0.681</td>\n",
       "      <td>1.589</td>\n",
       "      <td>0.908</td>\n",
       "      <td>1.135</td>\n",
       "      <td>0.227</td>\n",
       "      <td>0.227</td>\n",
       "      <td>1.589</td>\n",
       "      <td>...</td>\n",
       "      <td>3.278</td>\n",
       "      <td>4.088</td>\n",
       "      <td>3.754</td>\n",
       "      <td>4.032</td>\n",
       "      <td>3.955</td>\n",
       "      <td>3.711</td>\n",
       "      <td>3.542</td>\n",
       "      <td>3.892</td>\n",
       "      <td>4.227</td>\n",
       "      <td>3.699</td>\n",
       "    </tr>\n",
       "    <tr>\n",
       "      <th>98</th>\n",
       "      <td>Q0TXZ1</td>\n",
       "      <td>0</td>\n",
       "      <td>1.724</td>\n",
       "      <td>0.000</td>\n",
       "      <td>0.000</td>\n",
       "      <td>0.000</td>\n",
       "      <td>0.575</td>\n",
       "      <td>0.575</td>\n",
       "      <td>1.149</td>\n",
       "      <td>0.575</td>\n",
       "      <td>...</td>\n",
       "      <td>4.088</td>\n",
       "      <td>4.983</td>\n",
       "      <td>3.929</td>\n",
       "      <td>4.902</td>\n",
       "      <td>3.941</td>\n",
       "      <td>4.778</td>\n",
       "      <td>3.507</td>\n",
       "      <td>4.428</td>\n",
       "      <td>3.535</td>\n",
       "      <td>4.456</td>\n",
       "    </tr>\n",
       "    <tr>\n",
       "      <th>99</th>\n",
       "      <td>Q4RS30</td>\n",
       "      <td>0</td>\n",
       "      <td>2.914</td>\n",
       "      <td>0.000</td>\n",
       "      <td>2.186</td>\n",
       "      <td>1.457</td>\n",
       "      <td>0.729</td>\n",
       "      <td>0.729</td>\n",
       "      <td>0.000</td>\n",
       "      <td>0.729</td>\n",
       "      <td>...</td>\n",
       "      <td>3.488</td>\n",
       "      <td>3.794</td>\n",
       "      <td>3.972</td>\n",
       "      <td>4.114</td>\n",
       "      <td>4.963</td>\n",
       "      <td>4.304</td>\n",
       "      <td>3.722</td>\n",
       "      <td>4.397</td>\n",
       "      <td>3.703</td>\n",
       "      <td>4.341</td>\n",
       "    </tr>\n",
       "  </tbody>\n",
       "</table>\n",
       "<p>100 rows × 1742 columns</p>\n",
       "</div>"
      ],
      "text/plain": [
       "         0     1      2      3      4      5      6      7      8      9     \\\n",
       "0      A7JJ55     0  1.902  0.224  1.007  1.678  1.119  1.566  0.448  1.231   \n",
       "1      A6G489     0  1.418  0.000  2.269  1.418  0.284  0.284  0.000  0.851   \n",
       "2    81387225     0  1.388  2.776  1.388  1.388  0.000  0.000  0.000  2.776   \n",
       "3      Q4RV41     0  1.779  0.000  0.000  0.000  0.000  1.779  0.000  5.338   \n",
       "4      A5H2S3     0  2.479  0.000  1.928  2.204  0.275  1.102  0.000  1.102   \n",
       "..        ...   ...    ...    ...    ...    ...    ...    ...    ...    ...   \n",
       "95   81936884     0  0.000  1.760  1.760  2.640  0.000  0.880  0.000  0.880   \n",
       "96  123065912     0  2.007  0.118  1.181  1.535  1.181  1.653  0.236  0.826   \n",
       "97     Q77LW8     0  1.362  0.681  1.589  0.908  1.135  0.227  0.227  1.589   \n",
       "98     Q0TXZ1     0  1.724  0.000  0.000  0.000  0.575  0.575  1.149  0.575   \n",
       "99     Q4RS30     0  2.914  0.000  2.186  1.457  0.729  0.729  0.000  0.729   \n",
       "\n",
       "    ...   1732   1733   1734   1735   1736   1737   1738   1739   1740   1741  \n",
       "0   ...  3.950  3.763  3.607  3.963  4.343  3.988  3.787  4.073  3.915  3.879  \n",
       "1   ...  3.961  4.146  4.321  4.291  4.043  4.138  3.841  3.722  4.121  4.063  \n",
       "2   ...  3.552  1.819  4.381  3.705  2.250  4.423  7.612  3.943  0.684  1.529  \n",
       "3   ...  5.237  5.055  5.294  7.903  4.982  5.465  3.711  0.175  0.000  0.000  \n",
       "4   ...  2.893  3.862  3.858  3.554  3.173  3.836  3.742  3.662  3.128  3.255  \n",
       "..  ...    ...    ...    ...    ...    ...    ...    ...    ...    ...    ...  \n",
       "95  ...  3.433  3.942  2.855  5.121  2.472  5.835  3.931  5.662  4.005  4.804  \n",
       "96  ...  4.403  3.955  4.294  4.115  3.706  3.682  4.136  3.548  3.882  3.645  \n",
       "97  ...  3.278  4.088  3.754  4.032  3.955  3.711  3.542  3.892  4.227  3.699  \n",
       "98  ...  4.088  4.983  3.929  4.902  3.941  4.778  3.507  4.428  3.535  4.456  \n",
       "99  ...  3.488  3.794  3.972  4.114  4.963  4.304  3.722  4.397  3.703  4.341  \n",
       "\n",
       "[100 rows x 1742 columns]"
      ]
     },
     "execution_count": 3,
     "metadata": {},
     "output_type": "execute_result"
    }
   ],
   "source": [
    "train_data = pd.read_csv(train_file, header=None) \n",
    "test_data = pd.read_csv(test_file, header=None) \n",
    "train_data.head(100)"
   ]
  },
  {
   "cell_type": "code",
   "execution_count": 4,
   "id": "f33b565f",
   "metadata": {
    "execution": {
     "iopub.execute_input": "2022-04-09T15:56:25.291264Z",
     "iopub.status.busy": "2022-04-09T15:56:25.290298Z",
     "iopub.status.idle": "2022-04-09T15:56:25.317296Z",
     "shell.execute_reply": "2022-04-09T15:56:25.317775Z",
     "shell.execute_reply.started": "2022-04-09T15:53:44.523503Z"
    },
    "papermill": {
     "duration": 0.054151,
     "end_time": "2022-04-09T15:56:25.317965",
     "exception": false,
     "start_time": "2022-04-09T15:56:25.263814",
     "status": "completed"
    },
    "tags": []
   },
   "outputs": [
    {
     "data": {
      "text/html": [
       "<div>\n",
       "<style scoped>\n",
       "    .dataframe tbody tr th:only-of-type {\n",
       "        vertical-align: middle;\n",
       "    }\n",
       "\n",
       "    .dataframe tbody tr th {\n",
       "        vertical-align: top;\n",
       "    }\n",
       "\n",
       "    .dataframe thead th {\n",
       "        text-align: right;\n",
       "    }\n",
       "</style>\n",
       "<table border=\"1\" class=\"dataframe\">\n",
       "  <thead>\n",
       "    <tr style=\"text-align: right;\">\n",
       "      <th></th>\n",
       "      <th>0</th>\n",
       "      <th>1</th>\n",
       "      <th>2</th>\n",
       "      <th>3</th>\n",
       "      <th>4</th>\n",
       "      <th>5</th>\n",
       "      <th>6</th>\n",
       "      <th>7</th>\n",
       "      <th>8</th>\n",
       "      <th>9</th>\n",
       "      <th>...</th>\n",
       "      <th>1731</th>\n",
       "      <th>1732</th>\n",
       "      <th>1733</th>\n",
       "      <th>1734</th>\n",
       "      <th>1735</th>\n",
       "      <th>1736</th>\n",
       "      <th>1737</th>\n",
       "      <th>1738</th>\n",
       "      <th>1739</th>\n",
       "      <th>1740</th>\n",
       "    </tr>\n",
       "  </thead>\n",
       "  <tbody>\n",
       "    <tr>\n",
       "      <th>0</th>\n",
       "      <td>Q72UT8</td>\n",
       "      <td>0.000</td>\n",
       "      <td>0.0</td>\n",
       "      <td>0.496</td>\n",
       "      <td>2.482</td>\n",
       "      <td>0.993</td>\n",
       "      <td>0.496</td>\n",
       "      <td>0.496</td>\n",
       "      <td>1.489</td>\n",
       "      <td>1.985</td>\n",
       "      <td>...</td>\n",
       "      <td>4.050</td>\n",
       "      <td>4.298</td>\n",
       "      <td>4.145</td>\n",
       "      <td>4.024</td>\n",
       "      <td>3.698</td>\n",
       "      <td>3.780</td>\n",
       "      <td>4.571</td>\n",
       "      <td>4.514</td>\n",
       "      <td>3.254</td>\n",
       "      <td>4.104</td>\n",
       "    </tr>\n",
       "    <tr>\n",
       "      <th>1</th>\n",
       "      <td>Q20XP7</td>\n",
       "      <td>1.085</td>\n",
       "      <td>0.0</td>\n",
       "      <td>2.712</td>\n",
       "      <td>0.542</td>\n",
       "      <td>0.542</td>\n",
       "      <td>1.085</td>\n",
       "      <td>0.000</td>\n",
       "      <td>2.170</td>\n",
       "      <td>1.085</td>\n",
       "      <td>...</td>\n",
       "      <td>4.470</td>\n",
       "      <td>4.142</td>\n",
       "      <td>3.645</td>\n",
       "      <td>4.400</td>\n",
       "      <td>4.094</td>\n",
       "      <td>3.533</td>\n",
       "      <td>4.211</td>\n",
       "      <td>4.155</td>\n",
       "      <td>5.009</td>\n",
       "      <td>4.046</td>\n",
       "    </tr>\n",
       "    <tr>\n",
       "      <th>2</th>\n",
       "      <td>Q58GH9</td>\n",
       "      <td>0.932</td>\n",
       "      <td>0.0</td>\n",
       "      <td>1.198</td>\n",
       "      <td>1.331</td>\n",
       "      <td>0.399</td>\n",
       "      <td>1.598</td>\n",
       "      <td>0.266</td>\n",
       "      <td>2.396</td>\n",
       "      <td>1.997</td>\n",
       "      <td>...</td>\n",
       "      <td>3.914</td>\n",
       "      <td>4.181</td>\n",
       "      <td>3.771</td>\n",
       "      <td>3.861</td>\n",
       "      <td>4.115</td>\n",
       "      <td>3.775</td>\n",
       "      <td>3.861</td>\n",
       "      <td>3.797</td>\n",
       "      <td>4.125</td>\n",
       "      <td>3.595</td>\n",
       "    </tr>\n",
       "    <tr>\n",
       "      <th>3</th>\n",
       "      <td>Q11R29</td>\n",
       "      <td>1.627</td>\n",
       "      <td>0.0</td>\n",
       "      <td>0.930</td>\n",
       "      <td>0.697</td>\n",
       "      <td>1.395</td>\n",
       "      <td>1.627</td>\n",
       "      <td>0.232</td>\n",
       "      <td>3.487</td>\n",
       "      <td>1.395</td>\n",
       "      <td>...</td>\n",
       "      <td>3.416</td>\n",
       "      <td>4.201</td>\n",
       "      <td>4.406</td>\n",
       "      <td>3.929</td>\n",
       "      <td>4.220</td>\n",
       "      <td>3.470</td>\n",
       "      <td>4.194</td>\n",
       "      <td>3.936</td>\n",
       "      <td>3.618</td>\n",
       "      <td>3.905</td>\n",
       "    </tr>\n",
       "    <tr>\n",
       "      <th>4</th>\n",
       "      <td>Q2L1N1</td>\n",
       "      <td>3.131</td>\n",
       "      <td>0.0</td>\n",
       "      <td>0.696</td>\n",
       "      <td>1.044</td>\n",
       "      <td>1.740</td>\n",
       "      <td>0.348</td>\n",
       "      <td>1.392</td>\n",
       "      <td>1.392</td>\n",
       "      <td>0.696</td>\n",
       "      <td>...</td>\n",
       "      <td>3.994</td>\n",
       "      <td>5.368</td>\n",
       "      <td>3.743</td>\n",
       "      <td>4.882</td>\n",
       "      <td>4.094</td>\n",
       "      <td>3.456</td>\n",
       "      <td>5.600</td>\n",
       "      <td>4.760</td>\n",
       "      <td>3.139</td>\n",
       "      <td>4.385</td>\n",
       "    </tr>\n",
       "  </tbody>\n",
       "</table>\n",
       "<p>5 rows × 1741 columns</p>\n",
       "</div>"
      ],
      "text/plain": [
       "     0      1     2      3      4      5      6      7      8      9     ...  \\\n",
       "0  Q72UT8  0.000   0.0  0.496  2.482  0.993  0.496  0.496  1.489  1.985  ...   \n",
       "1  Q20XP7  1.085   0.0  2.712  0.542  0.542  1.085  0.000  2.170  1.085  ...   \n",
       "2  Q58GH9  0.932   0.0  1.198  1.331  0.399  1.598  0.266  2.396  1.997  ...   \n",
       "3  Q11R29  1.627   0.0  0.930  0.697  1.395  1.627  0.232  3.487  1.395  ...   \n",
       "4  Q2L1N1  3.131   0.0  0.696  1.044  1.740  0.348  1.392  1.392  0.696  ...   \n",
       "\n",
       "    1731   1732   1733   1734   1735   1736   1737   1738   1739   1740  \n",
       "0  4.050  4.298  4.145  4.024  3.698  3.780  4.571  4.514  3.254  4.104  \n",
       "1  4.470  4.142  3.645  4.400  4.094  3.533  4.211  4.155  5.009  4.046  \n",
       "2  3.914  4.181  3.771  3.861  4.115  3.775  3.861  3.797  4.125  3.595  \n",
       "3  3.416  4.201  4.406  3.929  4.220  3.470  4.194  3.936  3.618  3.905  \n",
       "4  3.994  5.368  3.743  4.882  4.094  3.456  5.600  4.760  3.139  4.385  \n",
       "\n",
       "[5 rows x 1741 columns]"
      ]
     },
     "execution_count": 4,
     "metadata": {},
     "output_type": "execute_result"
    }
   ],
   "source": [
    "test_data.head()"
   ]
  },
  {
   "cell_type": "markdown",
   "id": "be7bcb4e",
   "metadata": {
    "papermill": {
     "duration": 0.023961,
     "end_time": "2022-04-09T15:56:25.365597",
     "exception": false,
     "start_time": "2022-04-09T15:56:25.341636",
     "status": "completed"
    },
    "tags": []
   },
   "source": [
    "# Δημιουργούμε πινακες και dataframes\n",
    "Εδώ δεν χρειάζεται να πειράξετε κάτι"
   ]
  },
  {
   "cell_type": "code",
   "execution_count": 5,
   "id": "2f245fa3",
   "metadata": {
    "execution": {
     "iopub.execute_input": "2022-04-09T15:56:25.420281Z",
     "iopub.status.busy": "2022-04-09T15:56:25.419000Z",
     "iopub.status.idle": "2022-04-09T15:56:25.479519Z",
     "shell.execute_reply": "2022-04-09T15:56:25.478833Z",
     "shell.execute_reply.started": "2022-04-09T15:53:44.557450Z"
    },
    "papermill": {
     "duration": 0.090137,
     "end_time": "2022-04-09T15:56:25.479666",
     "exception": false,
     "start_time": "2022-04-09T15:56:25.389529",
     "status": "completed"
    },
    "tags": []
   },
   "outputs": [],
   "source": [
    "train_labels = train_data.iloc[:, [1]].values\n",
    "train_features = train_data.iloc[:, 2:].values\n",
    "test_names = test_data.iloc[:, [0]]\n",
    "test_features = test_data.iloc[:, 1:].values"
   ]
  },
  {
   "cell_type": "markdown",
   "id": "16680053",
   "metadata": {
    "papermill": {
     "duration": 0.023667,
     "end_time": "2022-04-09T15:56:25.527313",
     "exception": false,
     "start_time": "2022-04-09T15:56:25.503646",
     "status": "completed"
    },
    "tags": []
   },
   "source": [
    "# Ορίζουμε και εκπαιδεύουμε έναν ταξιμονητή\n",
    "Αυτό είναι το κομμάτι που θα αλλάζετε δοκιμάζοντας διάφορα μοντέλα και παραμέτρους.\n",
    "Επειδή το test.csv δεν έχει ετικέτες, δεν μπορεί να χρησιμοποιηθεί για test κατά την εκπαίδευση για να εκτιμήσουμε τη γενίκευση του μοντέλου.\n",
    "Θα πρέπει να χρησιμοποιήσουμε ένα κομμάτι του train.csv για train και ένα για test."
   ]
  },
  {
   "cell_type": "code",
   "execution_count": 6,
   "id": "36b59838",
   "metadata": {
    "execution": {
     "iopub.execute_input": "2022-04-09T15:56:25.579361Z",
     "iopub.status.busy": "2022-04-09T15:56:25.578670Z",
     "iopub.status.idle": "2022-04-09T15:56:26.904673Z",
     "shell.execute_reply": "2022-04-09T15:56:26.904011Z",
     "shell.execute_reply.started": "2022-04-09T15:53:44.623832Z"
    },
    "papermill": {
     "duration": 1.352708,
     "end_time": "2022-04-09T15:56:26.904821",
     "exception": false,
     "start_time": "2022-04-09T15:56:25.552113",
     "status": "completed"
    },
    "tags": []
   },
   "outputs": [],
   "source": [
    "from sklearn.model_selection import train_test_split\n",
    "X_train, X_test, y_train, y_test = train_test_split(train_features, train_labels, test_size=0.33)"
   ]
  },
  {
   "cell_type": "code",
   "execution_count": 7,
   "id": "f5dce14e",
   "metadata": {
    "execution": {
     "iopub.execute_input": "2022-04-09T15:56:26.958736Z",
     "iopub.status.busy": "2022-04-09T15:56:26.958029Z",
     "iopub.status.idle": "2022-04-09T15:56:27.295350Z",
     "shell.execute_reply": "2022-04-09T15:56:27.294662Z",
     "shell.execute_reply.started": "2022-04-09T15:53:45.871131Z"
    },
    "papermill": {
     "duration": 0.366523,
     "end_time": "2022-04-09T15:56:27.295516",
     "exception": false,
     "start_time": "2022-04-09T15:56:26.928993",
     "status": "completed"
    },
    "tags": []
   },
   "outputs": [],
   "source": [
    "from imblearn.over_sampling import RandomOverSampler"
   ]
  },
  {
   "cell_type": "code",
   "execution_count": 8,
   "id": "361ec57a",
   "metadata": {
    "execution": {
     "iopub.execute_input": "2022-04-09T15:56:27.349775Z",
     "iopub.status.busy": "2022-04-09T15:56:27.348771Z",
     "iopub.status.idle": "2022-04-09T15:56:27.452551Z",
     "shell.execute_reply": "2022-04-09T15:56:27.451933Z",
     "shell.execute_reply.started": "2022-04-09T15:53:46.226789Z"
    },
    "papermill": {
     "duration": 0.130649,
     "end_time": "2022-04-09T15:56:27.452692",
     "exception": false,
     "start_time": "2022-04-09T15:56:27.322043",
     "status": "completed"
    },
    "tags": []
   },
   "outputs": [],
   "source": [
    "ros = RandomOverSampler()\n",
    "ov_X_train, ov_y_train = ros.fit_resample(X_train, y_train)"
   ]
  },
  {
   "cell_type": "markdown",
   "id": "bccab19a",
   "metadata": {
    "papermill": {
     "duration": 0.024631,
     "end_time": "2022-04-09T15:56:27.501268",
     "exception": false,
     "start_time": "2022-04-09T15:56:27.476637",
     "status": "completed"
    },
    "tags": []
   },
   "source": [
    "Εκπαιδεύουμε έναν ταξινομητή στο X_train, y_train"
   ]
  },
  {
   "cell_type": "code",
   "execution_count": 9,
   "id": "4aa1469e",
   "metadata": {
    "execution": {
     "iopub.execute_input": "2022-04-09T15:56:27.557359Z",
     "iopub.status.busy": "2022-04-09T15:56:27.556484Z",
     "iopub.status.idle": "2022-04-09T15:56:27.571239Z",
     "shell.execute_reply": "2022-04-09T15:56:27.571724Z",
     "shell.execute_reply.started": "2022-04-09T15:53:46.331432Z"
    },
    "papermill": {
     "duration": 0.045812,
     "end_time": "2022-04-09T15:56:27.571903",
     "exception": false,
     "start_time": "2022-04-09T15:56:27.526091",
     "status": "completed"
    },
    "tags": []
   },
   "outputs": [],
   "source": [
    "from sklearn.feature_selection import VarianceThreshold\n",
    "from sklearn.pipeline import Pipeline\n",
    "from sklearn.preprocessing import Normalizer, StandardScaler, MinMaxScaler, PowerTransformer, MaxAbsScaler, LabelEncoder\n",
    "from sklearn.model_selection import GridSearchCV\n",
    "from sklearn.metrics import f1_score, make_scorer\n",
    "from sklearn.naive_bayes import GaussianNB\n",
    "from sklearn.metrics import classification_report\n",
    "import time"
   ]
  },
  {
   "cell_type": "code",
   "execution_count": 10,
   "id": "619dccac",
   "metadata": {
    "execution": {
     "iopub.execute_input": "2022-04-09T15:56:27.626136Z",
     "iopub.status.busy": "2022-04-09T15:56:27.625133Z",
     "iopub.status.idle": "2022-04-09T15:56:27.628104Z",
     "shell.execute_reply": "2022-04-09T15:56:27.627570Z",
     "shell.execute_reply.started": "2022-04-09T15:53:46.352110Z"
    },
    "papermill": {
     "duration": 0.031905,
     "end_time": "2022-04-09T15:56:27.628257",
     "exception": false,
     "start_time": "2022-04-09T15:56:27.596352",
     "status": "completed"
    },
    "tags": []
   },
   "outputs": [],
   "source": [
    "from sklearn.feature_selection import VarianceThreshold\n",
    "from sklearn.pipeline import Pipeline\n",
    "from sklearn.preprocessing import StandardScaler, MinMaxScaler, MaxAbsScaler\n",
    "from sklearn.svm import SVC"
   ]
  },
  {
   "cell_type": "code",
   "execution_count": 11,
   "id": "ebb191bd",
   "metadata": {
    "execution": {
     "iopub.execute_input": "2022-04-09T15:56:27.680611Z",
     "iopub.status.busy": "2022-04-09T15:56:27.679616Z",
     "iopub.status.idle": "2022-04-09T15:56:27.687639Z",
     "shell.execute_reply": "2022-04-09T15:56:27.688195Z",
     "shell.execute_reply.started": "2022-04-09T15:53:46.358943Z"
    },
    "papermill": {
     "duration": 0.035964,
     "end_time": "2022-04-09T15:56:27.688370",
     "exception": false,
     "start_time": "2022-04-09T15:56:27.652406",
     "status": "completed"
    },
    "tags": []
   },
   "outputs": [],
   "source": [
    "def construct_svm_pipeline(scaler, threshold, c, kernel, shrinking, break_ties=False, class_weight=None, gamma='scale'):\n",
    "    pipe = []\n",
    "    classifier = None\n",
    "\n",
    "    if scaler != 'none':\n",
    "        if scaler == 'standard':\n",
    "            pipe.append(('scaler', StandardScaler()))\n",
    "        elif scaler == 'minmax':\n",
    "            pipe.append(('scaler', MinMaxScaler()))\n",
    "        else:\n",
    "            pipe.append(('scaler', MaxAbsScaler()))\n",
    "\n",
    "    pipe.append(('selector', VarianceThreshold(threshold=threshold)))\n",
    "\n",
    "    classifier = SVC(C=c, kernel=kernel, cache_size=1000, shrinking=shrinking, break_ties=break_ties, class_weight=class_weight, gamma=gamma)\n",
    "\n",
    "    pipe.append(('classifier', classifier))\n",
    "\n",
    "    return Pipeline(pipe)"
   ]
  },
  {
   "cell_type": "code",
   "execution_count": 12,
   "id": "b474444b",
   "metadata": {
    "execution": {
     "iopub.execute_input": "2022-04-09T15:56:27.744201Z",
     "iopub.status.busy": "2022-04-09T15:56:27.742939Z",
     "iopub.status.idle": "2022-04-09T15:56:52.925951Z",
     "shell.execute_reply": "2022-04-09T15:56:52.926510Z",
     "shell.execute_reply.started": "2022-04-09T15:53:46.375703Z"
    },
    "papermill": {
     "duration": 25.213865,
     "end_time": "2022-04-09T15:56:52.926707",
     "exception": false,
     "start_time": "2022-04-09T15:56:27.712842",
     "status": "completed"
    },
    "tags": []
   },
   "outputs": [
    {
     "data": {
      "text/plain": [
       "Pipeline(steps=[('scaler', MinMaxScaler()),\n",
       "                ('selector',\n",
       "                 VarianceThreshold(threshold=0.0017153633496944534)),\n",
       "                ('classifier', SVC(C=0.3301027696435721, cache_size=1000))])"
      ]
     },
     "execution_count": 12,
     "metadata": {},
     "output_type": "execute_result"
    }
   ],
   "source": [
    "svm = construct_svm_pipeline('minmax', 0.0017153633496944534, 0.3301027696435721, 'rbf', True)\n",
    "svm.fit(ov_X_train, ov_y_train)"
   ]
  },
  {
   "cell_type": "code",
   "execution_count": 13,
   "id": "b50eb057",
   "metadata": {
    "execution": {
     "iopub.execute_input": "2022-04-09T15:56:52.983888Z",
     "iopub.status.busy": "2022-04-09T15:56:52.981678Z",
     "iopub.status.idle": "2022-04-09T15:57:02.476605Z",
     "shell.execute_reply": "2022-04-09T15:57:02.476007Z",
     "shell.execute_reply.started": "2022-04-09T15:54:12.645289Z"
    },
    "papermill": {
     "duration": 9.523185,
     "end_time": "2022-04-09T15:57:02.476765",
     "exception": false,
     "start_time": "2022-04-09T15:56:52.953580",
     "status": "completed"
    },
    "tags": []
   },
   "outputs": [],
   "source": [
    "predictions = svm.predict(X_test)"
   ]
  },
  {
   "cell_type": "markdown",
   "id": "91ccd495",
   "metadata": {
    "papermill": {
     "duration": 0.024323,
     "end_time": "2022-04-09T15:57:02.526583",
     "exception": false,
     "start_time": "2022-04-09T15:57:02.502260",
     "status": "completed"
    },
    "tags": []
   },
   "source": [
    "Κάνουμε προβλέψεις στο X_test, y_test και παίρνουμε μια εκτίμηση της ικανότητας γενίκευσης του ταξινομητή."
   ]
  },
  {
   "cell_type": "code",
   "execution_count": 14,
   "id": "4c1845c4",
   "metadata": {
    "execution": {
     "iopub.execute_input": "2022-04-09T15:57:02.579622Z",
     "iopub.status.busy": "2022-04-09T15:57:02.578572Z",
     "iopub.status.idle": "2022-04-09T15:57:13.169626Z",
     "shell.execute_reply": "2022-04-09T15:57:13.168530Z",
     "shell.execute_reply.started": "2022-04-09T15:54:28.429581Z"
    },
    "papermill": {
     "duration": 10.618992,
     "end_time": "2022-04-09T15:57:13.170091",
     "exception": false,
     "start_time": "2022-04-09T15:57:02.551099",
     "status": "completed"
    },
    "tags": []
   },
   "outputs": [
    {
     "name": "stdout",
     "output_type": "stream",
     "text": [
      "              precision    recall  f1-score   support\n",
      "\n",
      "           0       0.98      0.99      0.98      1877\n",
      "           1       0.70      0.61      0.65       103\n",
      "\n",
      "    accuracy                           0.97      1980\n",
      "   macro avg       0.84      0.80      0.82      1980\n",
      "weighted avg       0.96      0.97      0.97      1980\n",
      "\n"
     ]
    }
   ],
   "source": [
    "from sklearn.metrics import classification_report\n",
    "predictions = svm.predict(X_test)\n",
    "print(classification_report(y_test, predictions))"
   ]
  },
  {
   "cell_type": "markdown",
   "id": "9f275e1a",
   "metadata": {
    "papermill": {
     "duration": 0.026136,
     "end_time": "2022-04-09T15:57:13.221665",
     "exception": false,
     "start_time": "2022-04-09T15:57:13.195529",
     "status": "completed"
    },
    "tags": []
   },
   "source": [
    "Αφού καταλήξουμε στο μοντέλο μας και τις παραμέτρους του κάνουμε τις προβλέψεις μας για το τελικό test set."
   ]
  },
  {
   "cell_type": "code",
   "execution_count": 15,
   "id": "b654893c",
   "metadata": {
    "execution": {
     "iopub.execute_input": "2022-04-09T15:57:13.283651Z",
     "iopub.status.busy": "2022-04-09T15:57:13.282790Z",
     "iopub.status.idle": "2022-04-09T15:57:32.441984Z",
     "shell.execute_reply": "2022-04-09T15:57:32.441340Z",
     "shell.execute_reply.started": "2022-04-09T15:54:37.448782Z"
    },
    "papermill": {
     "duration": 19.192905,
     "end_time": "2022-04-09T15:57:32.442156",
     "exception": false,
     "start_time": "2022-04-09T15:57:13.249251",
     "status": "completed"
    },
    "tags": []
   },
   "outputs": [],
   "source": [
    "final_predictions = svm.predict(test_features)"
   ]
  },
  {
   "cell_type": "markdown",
   "id": "690a017d",
   "metadata": {
    "papermill": {
     "duration": 0.024627,
     "end_time": "2022-04-09T15:57:32.492410",
     "exception": false,
     "start_time": "2022-04-09T15:57:32.467783",
     "status": "completed"
    },
    "tags": []
   },
   "source": [
    "# Φτιάχνουμε κατάλληλα το αρχείο submission.csv με τα predictions μας\n",
    "Εδώ δεν χρειάζεται να πειράξετε κάτι"
   ]
  },
  {
   "cell_type": "code",
   "execution_count": 16,
   "id": "180280c1",
   "metadata": {
    "execution": {
     "iopub.execute_input": "2022-04-09T15:57:32.546418Z",
     "iopub.status.busy": "2022-04-09T15:57:32.545695Z",
     "iopub.status.idle": "2022-04-09T15:57:32.564093Z",
     "shell.execute_reply": "2022-04-09T15:57:32.564621Z",
     "shell.execute_reply.started": "2022-04-09T15:54:56.503389Z"
    },
    "papermill": {
     "duration": 0.047306,
     "end_time": "2022-04-09T15:57:32.564787",
     "exception": false,
     "start_time": "2022-04-09T15:57:32.517481",
     "status": "completed"
    },
    "tags": []
   },
   "outputs": [],
   "source": [
    "predictions_df = pd.DataFrame(final_predictions, columns = ['col2'])\n",
    "test_names.columns=['col1']\n",
    "submission_df = pd.concat([test_names, predictions_df], axis=1)\n",
    "header_columns = {'col1': [\"ID\"], 'col2': [\"EXPECTED\"]}\n",
    "header = pd.DataFrame(data=header_columns)\n",
    "submission_df = pd.concat([header, submission_df])\n",
    "submission_df.to_csv('submission.csv', index=False, header=False)"
   ]
  },
  {
   "cell_type": "code",
   "execution_count": 17,
   "id": "008f4ec6",
   "metadata": {
    "execution": {
     "iopub.execute_input": "2022-04-09T15:57:32.618579Z",
     "iopub.status.busy": "2022-04-09T15:57:32.617952Z",
     "iopub.status.idle": "2022-04-09T15:57:32.628478Z",
     "shell.execute_reply": "2022-04-09T15:57:32.629098Z",
     "shell.execute_reply.started": "2022-04-09T15:55:19.997726Z"
    },
    "papermill": {
     "duration": 0.039075,
     "end_time": "2022-04-09T15:57:32.629267",
     "exception": false,
     "start_time": "2022-04-09T15:57:32.590192",
     "status": "completed"
    },
    "tags": []
   },
   "outputs": [
    {
     "data": {
      "text/html": [
       "<div>\n",
       "<style scoped>\n",
       "    .dataframe tbody tr th:only-of-type {\n",
       "        vertical-align: middle;\n",
       "    }\n",
       "\n",
       "    .dataframe tbody tr th {\n",
       "        vertical-align: top;\n",
       "    }\n",
       "\n",
       "    .dataframe thead th {\n",
       "        text-align: right;\n",
       "    }\n",
       "</style>\n",
       "<table border=\"1\" class=\"dataframe\">\n",
       "  <thead>\n",
       "    <tr style=\"text-align: right;\">\n",
       "      <th></th>\n",
       "      <th>col1</th>\n",
       "      <th>col2</th>\n",
       "    </tr>\n",
       "  </thead>\n",
       "  <tbody>\n",
       "    <tr>\n",
       "      <th>0</th>\n",
       "      <td>ID</td>\n",
       "      <td>EXPECTED</td>\n",
       "    </tr>\n",
       "    <tr>\n",
       "      <th>0</th>\n",
       "      <td>Q72UT8</td>\n",
       "      <td>0</td>\n",
       "    </tr>\n",
       "    <tr>\n",
       "      <th>1</th>\n",
       "      <td>Q20XP7</td>\n",
       "      <td>0</td>\n",
       "    </tr>\n",
       "    <tr>\n",
       "      <th>2</th>\n",
       "      <td>Q58GH9</td>\n",
       "      <td>0</td>\n",
       "    </tr>\n",
       "    <tr>\n",
       "      <th>3</th>\n",
       "      <td>Q11R29</td>\n",
       "      <td>0</td>\n",
       "    </tr>\n",
       "    <tr>\n",
       "      <th>...</th>\n",
       "      <td>...</td>\n",
       "      <td>...</td>\n",
       "    </tr>\n",
       "    <tr>\n",
       "      <th>94</th>\n",
       "      <td>549434</td>\n",
       "      <td>0</td>\n",
       "    </tr>\n",
       "    <tr>\n",
       "      <th>95</th>\n",
       "      <td>Q5QBV8</td>\n",
       "      <td>0</td>\n",
       "    </tr>\n",
       "    <tr>\n",
       "      <th>96</th>\n",
       "      <td>Q5L4T3</td>\n",
       "      <td>0</td>\n",
       "    </tr>\n",
       "    <tr>\n",
       "      <th>97</th>\n",
       "      <td>A4N6F4</td>\n",
       "      <td>0</td>\n",
       "    </tr>\n",
       "    <tr>\n",
       "      <th>98</th>\n",
       "      <td>Q0AWI9</td>\n",
       "      <td>0</td>\n",
       "    </tr>\n",
       "  </tbody>\n",
       "</table>\n",
       "<p>100 rows × 2 columns</p>\n",
       "</div>"
      ],
      "text/plain": [
       "      col1      col2\n",
       "0       ID  EXPECTED\n",
       "0   Q72UT8         0\n",
       "1   Q20XP7         0\n",
       "2   Q58GH9         0\n",
       "3   Q11R29         0\n",
       "..     ...       ...\n",
       "94  549434         0\n",
       "95  Q5QBV8         0\n",
       "96  Q5L4T3         0\n",
       "97  A4N6F4         0\n",
       "98  Q0AWI9         0\n",
       "\n",
       "[100 rows x 2 columns]"
      ]
     },
     "execution_count": 17,
     "metadata": {},
     "output_type": "execute_result"
    }
   ],
   "source": [
    "submission_df.head(100)"
   ]
  }
 ],
 "metadata": {
  "kernelspec": {
   "display_name": "Python 3",
   "language": "python",
   "name": "python3"
  },
  "language_info": {
   "codemirror_mode": {
    "name": "ipython",
    "version": 3
   },
   "file_extension": ".py",
   "mimetype": "text/x-python",
   "name": "python",
   "nbconvert_exporter": "python",
   "pygments_lexer": "ipython3",
   "version": "3.7.12"
  },
  "papermill": {
   "default_parameters": {},
   "duration": 82.069117,
   "end_time": "2022-04-09T15:57:33.364820",
   "environment_variables": {},
   "exception": null,
   "input_path": "__notebook__.ipynb",
   "output_path": "__notebook__.ipynb",
   "parameters": {},
   "start_time": "2022-04-09T15:56:11.295703",
   "version": "2.3.3"
  }
 },
 "nbformat": 4,
 "nbformat_minor": 5
}
